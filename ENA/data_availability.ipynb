{
 "cells": [
  {
   "cell_type": "code",
   "execution_count": 1,
   "metadata": {
    "collapsed": true
   },
   "outputs": [],
   "source": [
    "from __future__ import division"
   ]
  },
  {
   "cell_type": "code",
   "execution_count": 2,
   "metadata": {
    "collapsed": true
   },
   "outputs": [],
   "source": [
    "import toolbox as tbx"
   ]
  },
  {
   "cell_type": "code",
   "execution_count": 17,
   "metadata": {
    "collapsed": false
   },
   "outputs": [],
   "source": [
    "import os\n",
    "import re\n",
    "import glob\n",
    "import dateutil\n",
    "import datetime\n",
    "import numpy as np\n",
    "import matplotlib.pyplot as plt\n",
    "%matplotlib inline\n",
    "\n",
    "import seaborn as sns"
   ]
  },
  {
   "cell_type": "code",
   "execution_count": 10,
   "metadata": {
    "collapsed": true
   },
   "outputs": [],
   "source": [
    "# set up the directories for the files you'd like to see\n",
    "base_directory = os.path.join(os.getenv(\"HOME\"), 'Research/data/ENA')\n",
    "\n",
    "uhsas_directory = os.path.join(base_directory, 'uhsas/aos')\n",
    "cn_directory = os.path.join(base_directory, 'cn')\n",
    "ccn_directory = os.path.join(base_directory, 'ccn')\n",
    "met_directory = os.path.join(base_directory, 'met')"
   ]
  },
  {
   "cell_type": "code",
   "execution_count": 19,
   "metadata": {
    "collapsed": false
   },
   "outputs": [],
   "source": [
    "UHSAS = tbx.fileIO.NetCDFFolder(uhsas_directory)\n",
    "CN = tbx.fileIO.NetCDFFolder(cn_directory)\n",
    "CCN = tbx.fileIO.NetCDFFolder(ccn_directory)\n",
    "MET = tbx.fileIO.NetCDFFolder(met_directory)\n",
    "\n",
    "datastreams = (UHSAS, CN, CCN, MET)"
   ]
  },
  {
   "cell_type": "code",
   "execution_count": 20,
   "metadata": {
    "collapsed": false
   },
   "outputs": [
    {
     "name": "stdout",
     "output_type": "stream",
     "text": [
      "/Users/jstemm/Research/data/ENA/uhsas/aos\n",
      "Found 543 files total\n",
      " > Found 543 items for datastream enaaosuhsasC1\n",
      "===============================================\n",
      "\n",
      "/Users/jstemm/Research/data/ENA/cn\n",
      "Found 483 files total\n",
      " > Found 483 items for datastream enaaoscpcfC1\n",
      "==============================================\n",
      "\n",
      "/Users/jstemm/Research/data/ENA/ccn\n",
      "Found 642 files total\n",
      " > Found 642 items for datastream enaaosccn100C1\n",
      "================================================\n",
      "\n",
      "/Users/jstemm/Research/data/ENA/met\n",
      "Found 697 files total\n",
      " > Found 697 items for datastream enametC1\n",
      "==========================================\n",
      "\n"
     ]
    }
   ],
   "source": [
    "for d in datastreams:\n",
    "    d.summary()\n",
    "    d.datelist = np.array([dateutil.parser.parse(os.path.split(f)[-1].split('.')[2]) for f in d.filelist])\n",
    "\n",
    "datelists = tuple([d.datelist for d in datastreams])\n",
    "labels = (\"UHSAS\", \"CN\", \"CCN\", \"MET\")"
   ]
  },
  {
   "cell_type": "code",
   "execution_count": 15,
   "metadata": {
    "collapsed": false
   },
   "outputs": [],
   "source": [
    "dtmin, dtmax = (np.min([i.min() for i in datelists]), np.max([j.max() for j in datelists]))"
   ]
  },
  {
   "cell_type": "code",
   "execution_count": 18,
   "metadata": {
    "collapsed": false
   },
   "outputs": [
    {
     "data": {
      "image/png": "[encoded data removed]",
      "text/plain": [
       "<matplotlib.figure.Figure at 0x10d1338d0>"
      ]
     },
     "metadata": {},
     "output_type": "display_data"
    }
   ],
   "source": [
    "fig, ax = plt.subplots(figsize=(16, 3))\n",
    "for i,d in enumerate(datelists):\n",
    "    ax.plot(d, np.ones_like(d)*i, 's', mec='none', label=labels[i])\n",
    "#ax.legend(ncol=i+1)\n",
    "ax.set_ylim(-1, i+1)\n",
    "ax.set_yticks(range(i+1))\n",
    "ax.set_yticklabels(labels)\n",
    "ax.set_xlim(dtmin, dtmax)\n",
    "fig.autofmt_xdate()"
   ]
  }
 ],
 "metadata": {
  "kernelspec": {
   "display_name": "Python 2",
   "language": "python",
   "name": "python2"
  },
  "language_info": {
   "codemirror_mode": {
    "name": "ipython",
    "version": 2
   },
   "file_extension": ".py",
   "mimetype": "text/x-python",
   "name": "python",
   "nbconvert_exporter": "python",
   "pygments_lexer": "ipython2",
   "version": "2.7.10"
  }
 },
 "nbformat": 4,
 "nbformat_minor": 0
}
